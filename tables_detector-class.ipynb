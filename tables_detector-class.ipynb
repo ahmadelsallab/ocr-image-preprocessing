{
 "cells": [
  {
   "cell_type": "code",
   "execution_count": 1,
   "metadata": {},
   "outputs": [],
   "source": [
    "import cv2\n",
    "import matplotlib.pyplot as plt\n",
    "import matplotlib.patches as patches\n",
    "import numpy as np\n",
    "from scipy.ndimage.interpolation import shift\n",
    "import os\n",
    "import seaborn as sns\n",
    "import json\n",
    "\n",
    "from pdftabextract.common import read_xml, parse_pages\n",
    "from pdftabextract.clustering import zip_clusters_and_values\n",
    "from pdftabextract.textboxes import border_positions_from_texts, split_texts_by_positions, join_texts\n",
    "from pdftabextract.common import all_a_in_b, DIRECTION_VERTICAL\n",
    "from pdftabextract.clustering import find_clusters_1d_break_dist\n",
    "from pdftabextract.clustering import calc_cluster_centers_1d\n",
    "from pdftabextract.extract import make_grid_from_positions\n",
    "from pdftabextract.extract import fit_texts_into_grid, datatable_to_dataframe\n",
    "\n",
    "from tabula import read_pdf\n",
    "import pandas as pd\n",
    "\n",
    "%matplotlib inline"
   ]
  },
  {
   "cell_type": "code",
   "execution_count": 2,
   "metadata": {},
   "outputs": [],
   "source": [
    "from tables_detector.tables_detector import TableDetector"
   ]
  },
  {
   "cell_type": "code",
   "execution_count": 3,
   "metadata": {},
   "outputs": [],
   "source": [
    "\n",
    "dat_path = \"../../../dat/DATASETS/NL 14614829 - Claim File- image 1_Part 1/Output\"\n",
    "#dat_path = \"../../../dat\""
   ]
  },
  {
   "cell_type": "code",
   "execution_count": 4,
   "metadata": {},
   "outputs": [],
   "source": [
    "pdf_file_name = 'Accident-Handwritten_V3.pdf'\n",
    "#pdf_file_name = 'Deidentified medical record.pdf'\n",
    "#pdf_file_name = 'EgyptJHaematol_2012_37_4_207_134966_5.pdf'\n",
    "\n",
    "base_file_name = os.path.splitext(pdf_file_name)[0]\n",
    "page_num = 1\n",
    "# Convert pdf to tiff\n",
    "cmd = 'convert -density 300 ' + pdf_file_name + '[' + str(page_num-1) + ']' + ' ' + base_file_name+'.tiff'\n",
    "#cmd = 'convert -density 150 ' + pdf_file_name + ' ' + base_file_name+'.tiff'\n",
    "#os.system(cmd)\n",
    "\n",
    "# Convert tiff to pdf sandwitch\n",
    "cmd = 'tesseract' + ' ' + base_file_name+'.tiff' + ' ' + base_file_name+'_pdf_sand' + ' pdf'\n",
    "#cmd = 'tesseract' + ' ' + 'Page 3.tiff' + ' ' + base_file_name+'_pdf_sand' + ' pdf'\n",
    "#os.system(cmd)\n",
    "\n",
    "# Convert pdf sandwitch to xml\n",
    "xml_file = base_file_name+'.xml'\n",
    "cmd = 'pdftohtml -c -hidden -xml' + ' ' + base_file_name+'_pdf_sand.pdf' + ' ' + xml_file\n",
    "#os.system(cmd)"
   ]
  },
  {
   "cell_type": "code",
   "execution_count": 5,
   "metadata": {},
   "outputs": [],
   "source": [
    "#!python3 -m http.server 8080 --bind 127.0.0.1"
   ]
  },
  {
   "cell_type": "markdown",
   "metadata": {},
   "source": [
    " http://127.0.0.1:8080/pdf2xml-viewer.html."
   ]
  },
  {
   "cell_type": "code",
   "execution_count": 6,
   "metadata": {},
   "outputs": [],
   "source": [
    "#xml_file = '0e521b72-651c-4a00-b4b8-2803d3b91f79_1.xml'\n",
    "file_name = base_file_name+'.tiff'\n",
    "#file_name = '0e521b72-651c-4a00-b4b8-2803d3b91f79_1.tiff'\n",
    "\n",
    "#file_name = 'Page 3.jpg' # OK\n",
    "#file_name = 'Page 5.jpg' # OK\n",
    "#file_name = 'Page 7.jpg' # OK\n",
    "#file_name = 'Page 8.jpg' # NOK\n",
    "#file_name = 'Page 3.tiff' # NOK\n",
    "#file_name = 'Page 3_mod.tiff' # NOK\n",
    "#file_name = 'Page 3_mod_no_table.tiff' # NOK\n",
    "#img_orig = cv2.imread(os.path.join(dat_path, file_name), 0)\n",
    "img_orig = cv2.imread(file_name, 0)\n",
    "img = (255 - img_orig.copy())/255\n",
    "img = img[:, :-100]"
   ]
  },
  {
   "cell_type": "code",
   "execution_count": 7,
   "metadata": {},
   "outputs": [
    {
     "data": {
      "text/plain": [
       "<matplotlib.image.AxesImage at 0x7f95a96983c8>"
      ]
     },
     "execution_count": 7,
     "metadata": {},
     "output_type": "execute_result"
    },
    {
     "data": {
      "image/png": "[encoded data removed]",
      "text/plain": [
       "<Figure size 432x288 with 1 Axes>"
      ]
     },
     "metadata": {},
     "output_type": "display_data"
    }
   ],
   "source": [
    "plt.imshow(img,cmap='gray')"
   ]
  },
  {
   "cell_type": "code",
   "execution_count": 8,
   "metadata": {},
   "outputs": [
    {
     "data": {
      "text/plain": [
       "(8250, 6275)"
      ]
     },
     "execution_count": 8,
     "metadata": {},
     "output_type": "execute_result"
    }
   ],
   "source": [
    "img.shape"
   ]
  },
  {
   "cell_type": "code",
   "execution_count": 9,
   "metadata": {},
   "outputs": [
    {
     "data": {
      "text/plain": [
       "\"\\n#img_new = cv2.resize(img, (img.shape[0], img.shape[1] + 100))\\nimg_new = np.zeros((img.shape[0], img.shape[1] + 100))\\nimg_new[:, 100:] = img\\n#img_new = np.concatenate(np.zeros((img.shape[0], 100)), img)\\nplt.imshow(img_new,cmap='gray')\\nimg = img_new.copy()\\n\""
      ]
     },
     "execution_count": 9,
     "metadata": {},
     "output_type": "execute_result"
    }
   ],
   "source": [
    "'''\n",
    "#img_new = cv2.resize(img, (img.shape[0], img.shape[1] + 100))\n",
    "img_new = np.zeros((img.shape[0], img.shape[1] + 100))\n",
    "img_new[:, 100:] = img\n",
    "#img_new = np.concatenate(np.zeros((img.shape[0], 100)), img)\n",
    "plt.imshow(img_new,cmap='gray')\n",
    "img = img_new.copy()\n",
    "'''"
   ]
  },
  {
   "cell_type": "code",
   "execution_count": 10,
   "metadata": {},
   "outputs": [
    {
     "name": "stdout",
     "output_type": "stream",
     "text": [
      "====================================================================================================\n",
      "> Grid with 3 rows, 3 columns\n",
      "====================================================================================================\n",
      "list index out of range\n",
      "Empty table\n",
      "\n",
      "====================================================================================================\n",
      "> Grid with 17 rows, 4 columns\n",
      "====================================================================================================\n",
      "> Grid with 3 rows, 2 columns\n",
      "====================================================================================================\n",
      "> Grid with 8 rows, 5 columns\n",
      "====================================================================================================\n",
      "> Grid with 3 rows, 3 columns\n",
      "====================================================================================================\n",
      "lefttop[0] must be smaller than rightbottom[0] to form a rectangle\n",
      "Empty table\n",
      "\n",
      "====================================================================================================\n",
      "lefttop[0] must be smaller than rightbottom[0] to form a rectangle\n",
      "Empty table\n",
      "\n",
      "====================================================================================================\n",
      "> Grid with 1 rows, 6 columns\n",
      "====================================================================================================\n"
     ]
    },
    {
     "data": {
      "image/png": "[encoded data removed]",
      "text/plain": [
       "<Figure size 432x288 with 1 Axes>"
      ]
     },
     "metadata": {},
     "output_type": "display_data"
    },
    {
     "data": {
      "text/plain": [
       "'{\"data\": [{\"col1\": {\"0\": \"O O\", \"1\": \"\", \"2\": \"Mfl\\\\u00a9ffl\"}, \"col2\": {\"0\": \"O\", \"1\": \"*\", \"2\": \"\"}, \"col3\": {\"0\": \"ACCIDENT CLAIM FORM\", \"1\": \"The Benefits Center\", \"2\": \"Roe. Bil \\\\u00a303158, golumbia, SC 29202-3158\"}}, {\"col1\": {\"0\": \"Last Name\", \"1\": \"\", \"2\": \"C|G|uU|I|R]|E\", \"3\": \"Date of Birth (mm/dd/yy)                 Sccial Security Number\", \"4\": \"\", \"5\": \"[2] [1T+] 319 711-14]\", \"6\": \"ome Address\", \"7\": \"\", \"8\": \"|C] |\\\\u00a76]A|x|o |N |A|V|E]. 8) AIV\", \"9\": \"\", \"10\": \"City\", \"11\": \"|A |V |F K]T |o w) N\", \"12\": \"Home Telephone Number H                 Cellular Telephone Number\", \"13\": \"21812 P] |4 11s 4] 4]\\\\u00a2\", \"14\": \"Accident Policy Number                   Preferred e-mail address (for confirmation purposes only)\", \"15\": \"\", \"16\": \"4             (|   ol   2|   t     In   le   |s   (h   la   Iw\"}, \"col2\": {\"0\": \"Suffix\", \"1\": \"\", \"2\": \"\", \"3\": \"\", \"4\": \"\", \"5\": \"\", \"6\": \"\", \"7\": \"\", \"8\": \"|F [R] T|\", \"9\": \"\", \"10\": \"\", \"11\": \"\", \"12\": \"\", \"13\": \"[6\", \"14\": \"\", \"15\": \"\", \"16\": \"In M14     m|\"}, \"col3\": {\"0\": \"First Name Mil\", \"1\": \"\", \"2\": \"S IH |A Iw] N\", \"3\": \"gander\", \"4\": \"\", \"5\": \"RS,\", \"6\": \"\", \"7\": \"\", \"8\": \"6 |w u\", \"9\": \"\", \"10\": \"State Zip\", \"11\": \"PLA] [1 la4alo| e] 3 |-\", \"12\": \"Work Telephone Number\", \"13\": \"[1 Sla] 1 21612 3] l 6\", \"14\": \"\", \"15\": \"\", \"16\": \"ali     I   -   4 o|     m\"}, \"col4\": {\"0\": \"\", \"1\": \"\", \"2\": \"\", \"3\": \"\", \"4\": \"\", \"5\": \"\", \"6\": \"\", \"7\": \"\", \"8\": \"\", \"9\": \"\", \"10\": \"\", \"11\": \"\", \"12\": \"\", \"13\": \"[o\", \"14\": \"\", \"15\": \"\", \"16\": \"\"}}, {\"col1\": {\"0\": \"YM Short Term Disability\", \"1\": \"O Long Term Disability\", \"2\": \"O Life Insurance\"}, \"col2\": {\"0\": \"O Voluntary Benefits\", \"1\": \"0 Voluntary Benefits Cancer/Critical Iliness Insurance\", \"2\": \"C Voluntary Benefits MedSupport Insurance\"}}, {\"col1\": {\"0\": \"C. lnfonnatlon About the Patient (if different from Insured/Policyholder)\", \"1\": \"\", \"2\": \"Last Name\", \"3\": \"\", \"4\": \"\", \"5\": \"Date of Birth (mm/dd/yy)   Social Security Number\", \"6\": \"\", \"7\": \"\"}, \"col2\": {\"0\": \"Check one:\", \"1\": \"\", \"2\": \"Suffix\", \"3\": \"\", \"4\": \"\", \"5\": \"\", \"6\": \"\", \"7\": \"\"}, \"col3\": {\"0\": \"O Spouse\", \"1\": \"\", \"2\": \"First Name\", \"3\": \"\", \"4\": \"\", \"5\": \"Gender\", \"6\": \"0 Male\", \"7\": \"O Female\"}, \"col4\": {\"0\": \"O Domestic Partner\", \"1\": \"\", \"2\": \"\", \"3\": \"\", \"4\": \"\", \"5\": \"Relationship to Insured/Policyholder (check one)\", \"6\": \"O Spouse/Domestic Partner\", \"7\": \"O Dependent Child\"}, \"col5\": {\"0\": \"O Dependent Child\", \"1\": \"\", \"2\": \"MI\", \"3\": \"\", \"4\": \"\", \"5\": \"\", \"6\": \"\", \"7\": \"\"}}, {\"col1\": {\"0\": \"Date of Accident |\", \"1\": \"\", \"2\": \"P| - 10 ~ 2b1%\"}, \"col2\": {\"0\": \"Time of Accident 5: 2b\", \"1\": \"\", \"2\": \"\"}, \"col3\": {\"0\": \"CQ a.m. p.m. -\", \"1\": \"\", \"2\": \"\"}}, {\"col1\": {\"0\": \"CL-1023 (02717)\"}, \"col2\": {\"0\": \"\"}, \"col3\": {\"0\": \"\"}, \"col4\": {\"0\": \"4\"}, \"col5\": {\"0\": \"\"}, \"col6\": {\"0\": \"\"}}]}'"
      ]
     },
     "execution_count": 10,
     "metadata": {},
     "output_type": "execute_result"
    }
   ],
   "source": [
    "verbose = False\n",
    "# 3508x2379 ~ 90linesx25words ~ pixels/word = 96, pixels/line=40--> strip_height > 40 (*2 for header usually > 2 lines) (100) w_max_pool < 96 (50)\n",
    "tables_detector = TableDetector(verbose, strip_height=50, w_max_pool=75, min_col_width=250, ratio_clip_max=0.25)\n",
    "#tables_detector = TableDetector(verbose, strip_height=50, w_max_pool=50, min_col_width=100, ratio_clip_max=0.25)\n",
    "tables = tables_detector.detect_tables(img)\n",
    "\n",
    "tables_detector.fit_text_to_tables(xml_file)\n",
    "tables_detector.visualize_tables(img_orig, file_name)\n",
    "#tables_detector.save_json(base_file_name)\n",
    "list_of_json_tables = tables_detector.get_tables_in_json()\n",
    "json.dumps({\"data\": list_of_json_tables})"
   ]
  },
  {
   "cell_type": "code",
   "execution_count": 11,
   "metadata": {},
   "outputs": [
    {
     "data": {
      "text/plain": [
       "[{'col1': {'0': 'O O', '1': '', '2': 'Mfl©ffl'},\n",
       "  'col2': {'0': 'O', '1': '*', '2': ''},\n",
       "  'col3': {'0': 'ACCIDENT CLAIM FORM',\n",
       "   '1': 'The Benefits Center',\n",
       "   '2': 'Roe. Bil £03158, golumbia, SC 29202-3158'}},\n",
       " {'col1': {'0': 'Last Name',\n",
       "   '1': '',\n",
       "   '2': 'C|G|uU|I|R]|E',\n",
       "   '3': 'Date of Birth (mm/dd/yy)                 Sccial Security Number',\n",
       "   '4': '',\n",
       "   '5': '[2] [1T+] 319 711-14]',\n",
       "   '6': 'ome Address',\n",
       "   '7': '',\n",
       "   '8': '|C] |§6]A|x|o |N |A|V|E]. 8) AIV',\n",
       "   '9': '',\n",
       "   '10': 'City',\n",
       "   '11': '|A |V |F K]T |o w) N',\n",
       "   '12': 'Home Telephone Number H                 Cellular Telephone Number',\n",
       "   '13': '21812 P] |4 11s 4] 4]¢',\n",
       "   '14': 'Accident Policy Number                   Preferred e-mail address (for confirmation purposes only)',\n",
       "   '15': '',\n",
       "   '16': '4             (|   ol   2|   t     In   le   |s   (h   la   Iw'},\n",
       "  'col2': {'0': 'Suffix',\n",
       "   '1': '',\n",
       "   '2': '',\n",
       "   '3': '',\n",
       "   '4': '',\n",
       "   '5': '',\n",
       "   '6': '',\n",
       "   '7': '',\n",
       "   '8': '|F [R] T|',\n",
       "   '9': '',\n",
       "   '10': '',\n",
       "   '11': '',\n",
       "   '12': '',\n",
       "   '13': '[6',\n",
       "   '14': '',\n",
       "   '15': '',\n",
       "   '16': 'In M14     m|'},\n",
       "  'col3': {'0': 'First Name Mil',\n",
       "   '1': '',\n",
       "   '2': 'S IH |A Iw] N',\n",
       "   '3': 'gander',\n",
       "   '4': '',\n",
       "   '5': 'RS,',\n",
       "   '6': '',\n",
       "   '7': '',\n",
       "   '8': '6 |w u',\n",
       "   '9': '',\n",
       "   '10': 'State Zip',\n",
       "   '11': 'PLA] [1 la4alo| e] 3 |-',\n",
       "   '12': 'Work Telephone Number',\n",
       "   '13': '[1 Sla] 1 21612 3] l 6',\n",
       "   '14': '',\n",
       "   '15': '',\n",
       "   '16': 'ali     I   -   4 o|     m'},\n",
       "  'col4': {'0': '',\n",
       "   '1': '',\n",
       "   '2': '',\n",
       "   '3': '',\n",
       "   '4': '',\n",
       "   '5': '',\n",
       "   '6': '',\n",
       "   '7': '',\n",
       "   '8': '',\n",
       "   '9': '',\n",
       "   '10': '',\n",
       "   '11': '',\n",
       "   '12': '',\n",
       "   '13': '[o',\n",
       "   '14': '',\n",
       "   '15': '',\n",
       "   '16': ''}},\n",
       " {'col1': {'0': 'YM Short Term Disability',\n",
       "   '1': 'O Long Term Disability',\n",
       "   '2': 'O Life Insurance'},\n",
       "  'col2': {'0': 'O Voluntary Benefits',\n",
       "   '1': '0 Voluntary Benefits Cancer/Critical Iliness Insurance',\n",
       "   '2': 'C Voluntary Benefits MedSupport Insurance'}},\n",
       " {'col1': {'0': 'C. lnfonnatlon About the Patient (if different from Insured/Policyholder)',\n",
       "   '1': '',\n",
       "   '2': 'Last Name',\n",
       "   '3': '',\n",
       "   '4': '',\n",
       "   '5': 'Date of Birth (mm/dd/yy)   Social Security Number',\n",
       "   '6': '',\n",
       "   '7': ''},\n",
       "  'col2': {'0': 'Check one:',\n",
       "   '1': '',\n",
       "   '2': 'Suffix',\n",
       "   '3': '',\n",
       "   '4': '',\n",
       "   '5': '',\n",
       "   '6': '',\n",
       "   '7': ''},\n",
       "  'col3': {'0': 'O Spouse',\n",
       "   '1': '',\n",
       "   '2': 'First Name',\n",
       "   '3': '',\n",
       "   '4': '',\n",
       "   '5': 'Gender',\n",
       "   '6': '0 Male',\n",
       "   '7': 'O Female'},\n",
       "  'col4': {'0': 'O Domestic Partner',\n",
       "   '1': '',\n",
       "   '2': '',\n",
       "   '3': '',\n",
       "   '4': '',\n",
       "   '5': 'Relationship to Insured/Policyholder (check one)',\n",
       "   '6': 'O Spouse/Domestic Partner',\n",
       "   '7': 'O Dependent Child'},\n",
       "  'col5': {'0': 'O Dependent Child',\n",
       "   '1': '',\n",
       "   '2': 'MI',\n",
       "   '3': '',\n",
       "   '4': '',\n",
       "   '5': '',\n",
       "   '6': '',\n",
       "   '7': ''}},\n",
       " {'col1': {'0': 'Date of Accident |', '1': '', '2': 'P| - 10 ~ 2b1%'},\n",
       "  'col2': {'0': 'Time of Accident 5: 2b', '1': '', '2': ''},\n",
       "  'col3': {'0': 'CQ a.m. p.m. -', '1': '', '2': ''}},\n",
       " {'col1': {'0': 'CL-1023 (02717)'},\n",
       "  'col2': {'0': ''},\n",
       "  'col3': {'0': ''},\n",
       "  'col4': {'0': '4'},\n",
       "  'col5': {'0': ''},\n",
       "  'col6': {'0': ''}}]"
      ]
     },
     "execution_count": 11,
     "metadata": {},
     "output_type": "execute_result"
    }
   ],
   "source": [
    "list_of_json_tables"
   ]
  },
  {
   "cell_type": "code",
   "execution_count": 12,
   "metadata": {},
   "outputs": [
    {
     "data": {
      "text/plain": [
       "[{'table_start': 850,\n",
       "  'col_positions': array([ 974, 1349, 1649, 5301]),\n",
       "  'table_end': 1100},\n",
       " {'table_start': 2150,\n",
       "  'col_positions': array([ 749, 3299, 3749, 5474, 5526]),\n",
       "  'table_end': 3650},\n",
       " {'table_start': 3900,\n",
       "  'col_positions': array([ 749, 1874, 5526]),\n",
       "  'table_end': 4200},\n",
       " {'table_start': 4500,\n",
       "  'col_positions': array([ 749, 3149, 3599, 4049, 4799, 5526]),\n",
       "  'table_end': 5150},\n",
       " {'table_start': 5550,\n",
       "  'col_positions': array([ 749, 2324, 3749, 5526]),\n",
       "  'table_end': 5750},\n",
       " {'table_start': 7050,\n",
       "  'col_positions': array([ 749, 1724, 2324, 2924, 4724, 5324, 5526]),\n",
       "  'table_end': 7150}]"
      ]
     },
     "execution_count": 12,
     "metadata": {},
     "output_type": "execute_result"
    }
   ],
   "source": [
    "tables_detector.tables"
   ]
  },
  {
   "cell_type": "code",
   "execution_count": 13,
   "metadata": {},
   "outputs": [],
   "source": [
    "coordinates = []\n",
    "for table in tables_detector.tables:\n",
    "    #json.loads(table.to_json().encode('utf-8').decode('utf-8'))\n",
    "    coordinates.append({'x1': int(table['col_positions'][0]), 'y1':int(table['table_start']) , 'x2':int(table['col_positions'][-1]),'y2': int(table['table_end'])})\n"
   ]
  },
  {
   "cell_type": "code",
   "execution_count": 14,
   "metadata": {},
   "outputs": [
    {
     "data": {
      "text/plain": [
       "[{'x1': 974, 'y1': 850, 'x2': 5301, 'y2': 1100},\n",
       " {'x1': 749, 'y1': 2150, 'x2': 5526, 'y2': 3650},\n",
       " {'x1': 749, 'y1': 3900, 'x2': 5526, 'y2': 4200},\n",
       " {'x1': 749, 'y1': 4500, 'x2': 5526, 'y2': 5150},\n",
       " {'x1': 749, 'y1': 5550, 'x2': 5526, 'y2': 5750},\n",
       " {'x1': 749, 'y1': 7050, 'x2': 5526, 'y2': 7150}]"
      ]
     },
     "execution_count": 14,
     "metadata": {},
     "output_type": "execute_result"
    }
   ],
   "source": [
    "coordinates"
   ]
  },
  {
   "cell_type": "code",
   "execution_count": 15,
   "metadata": {},
   "outputs": [
    {
     "data": {
      "text/plain": [
       "'{\"data\": [{\"col1\": {\"0\": \"O O\", \"1\": \"\", \"2\": \"Mfl\\\\u00a9ffl\"}, \"col2\": {\"0\": \"O\", \"1\": \"*\", \"2\": \"\"}, \"col3\": {\"0\": \"ACCIDENT CLAIM FORM\", \"1\": \"The Benefits Center\", \"2\": \"Roe. Bil \\\\u00a303158, golumbia, SC 29202-3158\"}}, {\"col1\": {\"0\": \"Last Name\", \"1\": \"\", \"2\": \"C|G|uU|I|R]|E\", \"3\": \"Date of Birth (mm/dd/yy)                 Sccial Security Number\", \"4\": \"\", \"5\": \"[2] [1T+] 319 711-14]\", \"6\": \"ome Address\", \"7\": \"\", \"8\": \"|C] |\\\\u00a76]A|x|o |N |A|V|E]. 8) AIV\", \"9\": \"\", \"10\": \"City\", \"11\": \"|A |V |F K]T |o w) N\", \"12\": \"Home Telephone Number H                 Cellular Telephone Number\", \"13\": \"21812 P] |4 11s 4] 4]\\\\u00a2\", \"14\": \"Accident Policy Number                   Preferred e-mail address (for confirmation purposes only)\", \"15\": \"\", \"16\": \"4             (|   ol   2|   t     In   le   |s   (h   la   Iw\"}, \"col2\": {\"0\": \"Suffix\", \"1\": \"\", \"2\": \"\", \"3\": \"\", \"4\": \"\", \"5\": \"\", \"6\": \"\", \"7\": \"\", \"8\": \"|F [R] T|\", \"9\": \"\", \"10\": \"\", \"11\": \"\", \"12\": \"\", \"13\": \"[6\", \"14\": \"\", \"15\": \"\", \"16\": \"In M14     m|\"}, \"col3\": {\"0\": \"First Name Mil\", \"1\": \"\", \"2\": \"S IH |A Iw] N\", \"3\": \"gander\", \"4\": \"\", \"5\": \"RS,\", \"6\": \"\", \"7\": \"\", \"8\": \"6 |w u\", \"9\": \"\", \"10\": \"State Zip\", \"11\": \"PLA] [1 la4alo| e] 3 |-\", \"12\": \"Work Telephone Number\", \"13\": \"[1 Sla] 1 21612 3] l 6\", \"14\": \"\", \"15\": \"\", \"16\": \"ali     I   -   4 o|     m\"}, \"col4\": {\"0\": \"\", \"1\": \"\", \"2\": \"\", \"3\": \"\", \"4\": \"\", \"5\": \"\", \"6\": \"\", \"7\": \"\", \"8\": \"\", \"9\": \"\", \"10\": \"\", \"11\": \"\", \"12\": \"\", \"13\": \"[o\", \"14\": \"\", \"15\": \"\", \"16\": \"\"}}, {\"col1\": {\"0\": \"YM Short Term Disability\", \"1\": \"O Long Term Disability\", \"2\": \"O Life Insurance\"}, \"col2\": {\"0\": \"O Voluntary Benefits\", \"1\": \"0 Voluntary Benefits Cancer/Critical Iliness Insurance\", \"2\": \"C Voluntary Benefits MedSupport Insurance\"}}, {\"col1\": {\"0\": \"C. lnfonnatlon About the Patient (if different from Insured/Policyholder)\", \"1\": \"\", \"2\": \"Last Name\", \"3\": \"\", \"4\": \"\", \"5\": \"Date of Birth (mm/dd/yy)   Social Security Number\", \"6\": \"\", \"7\": \"\"}, \"col2\": {\"0\": \"Check one:\", \"1\": \"\", \"2\": \"Suffix\", \"3\": \"\", \"4\": \"\", \"5\": \"\", \"6\": \"\", \"7\": \"\"}, \"col3\": {\"0\": \"O Spouse\", \"1\": \"\", \"2\": \"First Name\", \"3\": \"\", \"4\": \"\", \"5\": \"Gender\", \"6\": \"0 Male\", \"7\": \"O Female\"}, \"col4\": {\"0\": \"O Domestic Partner\", \"1\": \"\", \"2\": \"\", \"3\": \"\", \"4\": \"\", \"5\": \"Relationship to Insured/Policyholder (check one)\", \"6\": \"O Spouse/Domestic Partner\", \"7\": \"O Dependent Child\"}, \"col5\": {\"0\": \"O Dependent Child\", \"1\": \"\", \"2\": \"MI\", \"3\": \"\", \"4\": \"\", \"5\": \"\", \"6\": \"\", \"7\": \"\"}}, {\"col1\": {\"0\": \"Date of Accident |\", \"1\": \"\", \"2\": \"P| - 10 ~ 2b1%\"}, \"col2\": {\"0\": \"Time of Accident 5: 2b\", \"1\": \"\", \"2\": \"\"}, \"col3\": {\"0\": \"CQ a.m. p.m. -\", \"1\": \"\", \"2\": \"\"}}, {\"col1\": {\"0\": \"CL-1023 (02717)\"}, \"col2\": {\"0\": \"\"}, \"col3\": {\"0\": \"\"}, \"col4\": {\"0\": \"4\"}, \"col5\": {\"0\": \"\"}, \"col6\": {\"0\": \"\"}}], \"coordinates\": [{\"x1\": 974, \"y1\": 850, \"x2\": 5301, \"y2\": 1100}, {\"x1\": 749, \"y1\": 2150, \"x2\": 5526, \"y2\": 3650}, {\"x1\": 749, \"y1\": 3900, \"x2\": 5526, \"y2\": 4200}, {\"x1\": 749, \"y1\": 4500, \"x2\": 5526, \"y2\": 5150}, {\"x1\": 749, \"y1\": 5550, \"x2\": 5526, \"y2\": 5750}, {\"x1\": 749, \"y1\": 7050, \"x2\": 5526, \"y2\": 7150}]}'"
      ]
     },
     "execution_count": 15,
     "metadata": {},
     "output_type": "execute_result"
    }
   ],
   "source": [
    "json.dumps({\"data\": list_of_json_tables, \"coordinates\": coordinates})"
   ]
  },
  {
   "cell_type": "code",
   "execution_count": 19,
   "metadata": {},
   "outputs": [
    {
     "name": "stderr",
     "output_type": "stream",
     "text": [
      "Error: \n"
     ]
    },
    {
     "ename": "CalledProcessError",
     "evalue": "Command '['java', '-Dfile.encoding=UTF8', '-jar', '/home/ahmad/Work/OCR/cod/TableIdentification/table_identification/tabula/tabula-1.0.2-jar-with-dependencies.jar', '--pages', '1', '--guess', '0e521b72-651c-4a00-b4b8-2803d3b.pdf']' returned non-zero exit status 1.",
     "output_type": "error",
     "traceback": [
      "\u001b[0;31m---------------------------------------------------------------------------\u001b[0m",
      "\u001b[0;31mCalledProcessError\u001b[0m                        Traceback (most recent call last)",
      "\u001b[0;32m<ipython-input-19-60fecb92c265>\u001b[0m in \u001b[0;36m<module>\u001b[0;34m()\u001b[0m\n\u001b[1;32m      1\u001b[0m \u001b[0mpdf_file_name\u001b[0m \u001b[0;34m=\u001b[0m \u001b[0;34m'0e521b72-651c-4a00-b4b8-2803d3b.pdf'\u001b[0m\u001b[0;34m\u001b[0m\u001b[0m\n\u001b[0;32m----> 2\u001b[0;31m \u001b[0mdf_tabula\u001b[0m \u001b[0;34m=\u001b[0m \u001b[0mread_pdf\u001b[0m\u001b[0;34m(\u001b[0m\u001b[0mpdf_file_name\u001b[0m\u001b[0;34m)\u001b[0m\u001b[0;31m# If tables with lines, better use tabula\u001b[0m\u001b[0;34m\u001b[0m\u001b[0m\n\u001b[0m\u001b[1;32m      3\u001b[0m \u001b[0;34m\u001b[0m\u001b[0m\n\u001b[1;32m      4\u001b[0m \u001b[0;32mtry\u001b[0m\u001b[0;34m:\u001b[0m\u001b[0;34m\u001b[0m\u001b[0m\n\u001b[1;32m      5\u001b[0m     \u001b[0mdf_tabula\u001b[0m\u001b[0;34m.\u001b[0m\u001b[0mto_json\u001b[0m\u001b[0;34m(\u001b[0m\u001b[0mbase_file_name\u001b[0m\u001b[0;34m+\u001b[0m\u001b[0;34m'.json'\u001b[0m\u001b[0;34m)\u001b[0m\u001b[0;34m\u001b[0m\u001b[0m\n",
      "\u001b[0;32m~/Work/OCR/cod/TableIdentification/table_identification/tabula/wrapper.py\u001b[0m in \u001b[0;36mread_pdf\u001b[0;34m(input_path, output_format, encoding, java_options, pandas_options, multiple_tables, **kwargs)\u001b[0m\n\u001b[1;32m    106\u001b[0m \u001b[0;34m\u001b[0m\u001b[0m\n\u001b[1;32m    107\u001b[0m     \u001b[0;32mtry\u001b[0m\u001b[0;34m:\u001b[0m\u001b[0;34m\u001b[0m\u001b[0m\n\u001b[0;32m--> 108\u001b[0;31m         \u001b[0moutput\u001b[0m \u001b[0;34m=\u001b[0m \u001b[0msubprocess\u001b[0m\u001b[0;34m.\u001b[0m\u001b[0mcheck_output\u001b[0m\u001b[0;34m(\u001b[0m\u001b[0margs\u001b[0m\u001b[0;34m)\u001b[0m\u001b[0;34m\u001b[0m\u001b[0m\n\u001b[0m\u001b[1;32m    109\u001b[0m \u001b[0;34m\u001b[0m\u001b[0m\n\u001b[1;32m    110\u001b[0m     \u001b[0;32mexcept\u001b[0m \u001b[0mFileNotFoundError\u001b[0m \u001b[0;32mas\u001b[0m \u001b[0me\u001b[0m\u001b[0;34m:\u001b[0m\u001b[0;34m\u001b[0m\u001b[0m\n",
      "\u001b[0;32m~/anaconda3/lib/python3.6/subprocess.py\u001b[0m in \u001b[0;36mcheck_output\u001b[0;34m(timeout, *popenargs, **kwargs)\u001b[0m\n\u001b[1;32m    334\u001b[0m \u001b[0;34m\u001b[0m\u001b[0m\n\u001b[1;32m    335\u001b[0m     return run(*popenargs, stdout=PIPE, timeout=timeout, check=True,\n\u001b[0;32m--> 336\u001b[0;31m                **kwargs).stdout\n\u001b[0m\u001b[1;32m    337\u001b[0m \u001b[0;34m\u001b[0m\u001b[0m\n\u001b[1;32m    338\u001b[0m \u001b[0;34m\u001b[0m\u001b[0m\n",
      "\u001b[0;32m~/anaconda3/lib/python3.6/subprocess.py\u001b[0m in \u001b[0;36mrun\u001b[0;34m(input, timeout, check, *popenargs, **kwargs)\u001b[0m\n\u001b[1;32m    416\u001b[0m         \u001b[0;32mif\u001b[0m \u001b[0mcheck\u001b[0m \u001b[0;32mand\u001b[0m \u001b[0mretcode\u001b[0m\u001b[0;34m:\u001b[0m\u001b[0;34m\u001b[0m\u001b[0m\n\u001b[1;32m    417\u001b[0m             raise CalledProcessError(retcode, process.args,\n\u001b[0;32m--> 418\u001b[0;31m                                      output=stdout, stderr=stderr)\n\u001b[0m\u001b[1;32m    419\u001b[0m     \u001b[0;32mreturn\u001b[0m \u001b[0mCompletedProcess\u001b[0m\u001b[0;34m(\u001b[0m\u001b[0mprocess\u001b[0m\u001b[0;34m.\u001b[0m\u001b[0margs\u001b[0m\u001b[0;34m,\u001b[0m \u001b[0mretcode\u001b[0m\u001b[0;34m,\u001b[0m \u001b[0mstdout\u001b[0m\u001b[0;34m,\u001b[0m \u001b[0mstderr\u001b[0m\u001b[0;34m)\u001b[0m\u001b[0;34m\u001b[0m\u001b[0m\n\u001b[1;32m    420\u001b[0m \u001b[0;34m\u001b[0m\u001b[0m\n",
      "\u001b[0;31mCalledProcessError\u001b[0m: Command '['java', '-Dfile.encoding=UTF8', '-jar', '/home/ahmad/Work/OCR/cod/TableIdentification/table_identification/tabula/tabula-1.0.2-jar-with-dependencies.jar', '--pages', '1', '--guess', '0e521b72-651c-4a00-b4b8-2803d3b.pdf']' returned non-zero exit status 1."
     ]
    }
   ],
   "source": [
    "\n",
    "df_tabula = read_pdf(pdf_file_name)# If tables with lines, better use tabula \n",
    "\n",
    "try:\n",
    "    df_tabula.to_json(base_file_name+'.json')\n",
    "    list_of_json_tables = [json.loads(df_tabula.to_json())]\n",
    "    \n",
    "except:\n",
    "    verbose = False\n",
    "    # 3508x2379 ~ 90linesx25words ~ pixels/word = 96, pixels/line=40--> strip_height > 40 (*2 for header usually > 2 lines) (100) w_max_pool < 96 (50)\n",
    "    tables_detector = TableDetector(verbose, strip_height=50, w_max_pool=75, min_col_width=250, ratio_clip_max=0.25)\n",
    "    tables = tables_detector.detect_tables(img)\n",
    "    tables_detector.visualize_tables(img_orig, file_name)\n",
    "    tables_detector.fit_text_to_tables(xml_file)\n",
    "    #tables_detector.save_json(base_file_name)\n",
    "    list_of_json_tables = tables_detector.get_tables_in_json()\n",
    "    \n",
    "json.dumps({\"data\": list_of_json_tables})"
   ]
  },
  {
   "cell_type": "code",
   "execution_count": 20,
   "metadata": {},
   "outputs": [
    {
     "data": {
      "text/html": [
       "<div>\n",
       "<style scoped>\n",
       "    .dataframe tbody tr th:only-of-type {\n",
       "        vertical-align: middle;\n",
       "    }\n",
       "\n",
       "    .dataframe tbody tr th {\n",
       "        vertical-align: top;\n",
       "    }\n",
       "\n",
       "    .dataframe thead th {\n",
       "        text-align: right;\n",
       "    }\n",
       "</style>\n",
       "<table border=\"1\" class=\"dataframe\">\n",
       "  <thead>\n",
       "    <tr style=\"text-align: right;\">\n",
       "      <th></th>\n",
       "      <th>Dates of Diagnosis</th>\n",
       "      <th>;</th>\n",
       "      <th>Unnamed: 2</th>\n",
       "      <th>Diagnosis Description</th>\n",
       "      <th>Unnamed: 4</th>\n",
       "      <th>lrocsdure!</th>\n",
       "      <th>”Procedure Description</th>\n",
       "    </tr>\n",
       "  </thead>\n",
       "  <tbody>\n",
       "    <tr>\n",
       "      <th>0</th>\n",
       "      <td>Service (including Code (ICD);</td>\n",
       "      <td>NaN</td>\n",
       "      <td>NaN</td>\n",
       "      <td>NaN</td>\n",
       "      <td>NaN</td>\n",
       "      <td>Code</td>\n",
       "      <td>NaN</td>\n",
       "    </tr>\n",
       "    <tr>\n",
       "      <th>1</th>\n",
       "      <td>Confinement)</td>\n",
       "      <td>NaN</td>\n",
       "      <td>NaN</td>\n",
       "      <td>NaN</td>\n",
       "      <td>NaN</td>\n",
       "      <td>NaN</td>\n",
       "      <td>NaN</td>\n",
       "    </tr>\n",
       "    <tr>\n",
       "      <th>2</th>\n",
       "      <td>IZ  |S90.190A</td>\n",
       "      <td>NaN</td>\n",
       "      <td>NaN</td>\n",
       "      <td>Corctusion of kt</td>\n",
       "      <td>toe</td>\n",
       "      <td>NaN</td>\n",
       "      <td>NaN</td>\n",
       "    </tr>\n",
       "    <tr>\n",
       "      <th>3</th>\n",
       "      <td>|</td>\n",
       "      <td>NaN</td>\n",
       "      <td>NaN</td>\n",
       "      <td>NaN</td>\n",
       "      <td>NaN</td>\n",
       "      <td>NaN</td>\n",
       "      <td>NaN</td>\n",
       "    </tr>\n",
       "  </tbody>\n",
       "</table>\n",
       "</div>"
      ],
      "text/plain": [
       "               Dates of Diagnosis   ;  Unnamed: 2 Diagnosis Description  \\\n",
       "0  Service (including Code (ICD); NaN         NaN                   NaN   \n",
       "1                    Confinement) NaN         NaN                   NaN   \n",
       "2                   IZ  |S90.190A NaN         NaN      Corctusion of kt   \n",
       "3                               | NaN         NaN                   NaN   \n",
       "\n",
       "  Unnamed: 4 lrocsdure!  ”Procedure Description  \n",
       "0        NaN       Code                     NaN  \n",
       "1        NaN        NaN                     NaN  \n",
       "2        toe        NaN                     NaN  \n",
       "3        NaN        NaN                     NaN  "
      ]
     },
     "execution_count": 20,
     "metadata": {},
     "output_type": "execute_result"
    }
   ],
   "source": [
    "df_tabula"
   ]
  },
  {
   "cell_type": "code",
   "execution_count": 18,
   "metadata": {},
   "outputs": [],
   "source": [
    "with open(base_file_name+'.json', 'w') as outfile:  \n",
    "    json.dump({\"data\": list_of_json_tables}, outfile)"
   ]
  }
 ],
 "metadata": {
  "kernelspec": {
   "display_name": "Python 3",
   "language": "python",
   "name": "python3"
  },
  "language_info": {
   "codemirror_mode": {
    "name": "ipython",
    "version": 3
   },
   "file_extension": ".py",
   "mimetype": "text/x-python",
   "name": "python",
   "nbconvert_exporter": "python",
   "pygments_lexer": "ipython3",
   "version": "3.6.5"
  }
 },
 "nbformat": 4,
 "nbformat_minor": 2
}
